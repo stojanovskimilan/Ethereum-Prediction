{
 "cells": [
  {
   "cell_type": "code",
   "execution_count": 2,
   "metadata": {
    "executionInfo": {
     "elapsed": 3923,
     "status": "ok",
     "timestamp": 1632252659070,
     "user": {
      "displayName": "Milan Stojanovski",
      "photoUrl": "https://lh3.googleusercontent.com/a/default-user=s64",
      "userId": "15883807230559650119"
     },
     "user_tz": -120
    },
    "id": "Ywqf73jBOpkO"
   },
   "outputs": [],
   "source": [
    "import numpy as np\n",
    "import pandas as pd\n",
    "import datetime as dt\n",
    "import seaborn as sns \n",
    "import matplotlib.pyplot as plt\n",
    "from sklearn.metrics import mean_squared_error\n",
    "from math import sqrt\n",
    "from pandas.plotting import autocorrelation_plot\n",
    "import yfinance as yf\n",
    "import tensorflow as tf\n",
    "import math\n",
    "import datetime\n",
    "import plotly\n",
    "from subprocess import check_output\n",
    "from keras.layers.core import Dense, Activation, Dropout\n",
    "from keras.layers.recurrent import LSTM\n",
    "from keras.models import Sequential\n",
    "\n",
    "import time #helper libraries\n",
    "import matplotlib.pyplot as plt\n",
    "from numpy import newaxis\n",
    "%matplotlib inline"
   ]
  },
  {
   "cell_type": "code",
   "execution_count": 3,
   "metadata": {
    "colab": {
     "base_uri": "https://localhost:8080/",
     "height": 252
    },
    "executionInfo": {
     "elapsed": 642,
     "status": "ok",
     "timestamp": 1632252661678,
     "user": {
      "displayName": "Milan Stojanovski",
      "photoUrl": "https://lh3.googleusercontent.com/a/default-user=s64",
      "userId": "15883807230559650119"
     },
     "user_tz": -120
    },
    "id": "pVVkSKIrOs0n",
    "outputId": "9ad55868-b360-4fa3-e692-c65b78a88860"
   },
   "outputs": [
    {
     "name": "stdout",
     "output_type": "stream",
     "text": [
      "\r",
      "[*********************100%***********************]  1 of 1 completed\n"
     ]
    },
    {
     "data": {
      "text/html": [
       "<div>\n",
       "<style scoped>\n",
       "    .dataframe tbody tr th:only-of-type {\n",
       "        vertical-align: middle;\n",
       "    }\n",
       "\n",
       "    .dataframe tbody tr th {\n",
       "        vertical-align: top;\n",
       "    }\n",
       "\n",
       "    .dataframe thead th {\n",
       "        text-align: right;\n",
       "    }\n",
       "</style>\n",
       "<table border=\"1\" class=\"dataframe\">\n",
       "  <thead>\n",
       "    <tr style=\"text-align: right;\">\n",
       "      <th></th>\n",
       "      <th>Open</th>\n",
       "      <th>High</th>\n",
       "      <th>Low</th>\n",
       "      <th>Close</th>\n",
       "      <th>Adj Close</th>\n",
       "      <th>Volume</th>\n",
       "    </tr>\n",
       "    <tr>\n",
       "      <th>Date</th>\n",
       "      <th></th>\n",
       "      <th></th>\n",
       "      <th></th>\n",
       "      <th></th>\n",
       "      <th></th>\n",
       "      <th></th>\n",
       "    </tr>\n",
       "  </thead>\n",
       "  <tbody>\n",
       "    <tr>\n",
       "      <th>2015-08-07</th>\n",
       "      <td>2.831620</td>\n",
       "      <td>3.536610</td>\n",
       "      <td>2.521120</td>\n",
       "      <td>2.772120</td>\n",
       "      <td>2.772120</td>\n",
       "      <td>164329</td>\n",
       "    </tr>\n",
       "    <tr>\n",
       "      <th>2015-08-08</th>\n",
       "      <td>2.793760</td>\n",
       "      <td>2.798810</td>\n",
       "      <td>0.714725</td>\n",
       "      <td>0.753325</td>\n",
       "      <td>0.753325</td>\n",
       "      <td>674188</td>\n",
       "    </tr>\n",
       "    <tr>\n",
       "      <th>2015-08-09</th>\n",
       "      <td>0.706136</td>\n",
       "      <td>0.879810</td>\n",
       "      <td>0.629191</td>\n",
       "      <td>0.701897</td>\n",
       "      <td>0.701897</td>\n",
       "      <td>532170</td>\n",
       "    </tr>\n",
       "    <tr>\n",
       "      <th>2015-08-10</th>\n",
       "      <td>0.713989</td>\n",
       "      <td>0.729854</td>\n",
       "      <td>0.636546</td>\n",
       "      <td>0.708448</td>\n",
       "      <td>0.708448</td>\n",
       "      <td>405283</td>\n",
       "    </tr>\n",
       "    <tr>\n",
       "      <th>2015-08-11</th>\n",
       "      <td>0.708087</td>\n",
       "      <td>1.131410</td>\n",
       "      <td>0.663235</td>\n",
       "      <td>1.067860</td>\n",
       "      <td>1.067860</td>\n",
       "      <td>1463100</td>\n",
       "    </tr>\n",
       "  </tbody>\n",
       "</table>\n",
       "</div>"
      ],
      "text/plain": [
       "                Open      High       Low     Close  Adj Close   Volume\n",
       "Date                                                                  \n",
       "2015-08-07  2.831620  3.536610  2.521120  2.772120   2.772120   164329\n",
       "2015-08-08  2.793760  2.798810  0.714725  0.753325   0.753325   674188\n",
       "2015-08-09  0.706136  0.879810  0.629191  0.701897   0.701897   532170\n",
       "2015-08-10  0.713989  0.729854  0.636546  0.708448   0.708448   405283\n",
       "2015-08-11  0.708087  1.131410  0.663235  1.067860   1.067860  1463100"
      ]
     },
     "execution_count": 3,
     "metadata": {},
     "output_type": "execute_result"
    }
   ],
   "source": [
    "data = yf.download('ETH-USD')\n",
    "data.head()\n"
   ]
  },
  {
   "cell_type": "code",
   "execution_count": 4,
   "metadata": {
    "executionInfo": {
     "elapsed": 10,
     "status": "ok",
     "timestamp": 1632252663044,
     "user": {
      "displayName": "Milan Stojanovski",
      "photoUrl": "https://lh3.googleusercontent.com/a/default-user=s64",
      "userId": "15883807230559650119"
     },
     "user_tz": -120
    },
    "id": "9i9A5oDcOujD"
   },
   "outputs": [],
   "source": [
    "df = data.filter(['Close'])\n",
    "dataset = df.values"
   ]
  },
  {
   "cell_type": "code",
   "execution_count": 5,
   "metadata": {
    "colab": {
     "base_uri": "https://localhost:8080/"
    },
    "executionInfo": {
     "elapsed": 12,
     "status": "ok",
     "timestamp": 1632252664425,
     "user": {
      "displayName": "Milan Stojanovski",
      "photoUrl": "https://lh3.googleusercontent.com/a/default-user=s64",
      "userId": "15883807230559650119"
     },
     "user_tz": -120
    },
    "id": "oMYWQsghO3I7",
    "outputId": "3fc3cad3-dab6-4ab4-edc3-e764eea014e5"
   },
   "outputs": [
    {
     "data": {
      "text/plain": [
       "2123"
      ]
     },
     "execution_count": 5,
     "metadata": {},
     "output_type": "execute_result"
    }
   ],
   "source": [
    "training_data_len = int(np.ceil(len(dataset) * .95))\n",
    "training_data_len"
   ]
  },
  {
   "cell_type": "code",
   "execution_count": 6,
   "metadata": {
    "colab": {
     "base_uri": "https://localhost:8080/"
    },
    "executionInfo": {
     "elapsed": 329,
     "status": "ok",
     "timestamp": 1632252666487,
     "user": {
      "displayName": "Milan Stojanovski",
      "photoUrl": "https://lh3.googleusercontent.com/a/default-user=s64",
      "userId": "15883807230559650119"
     },
     "user_tz": -120
    },
    "id": "1RiUCNiGPDGc",
    "outputId": "0999798f-4a85-4655-fa48-d8351c8fa41d"
   },
   "outputs": [
    {
     "data": {
      "text/plain": [
       "array([[5.60734562e-04],\n",
       "       [7.64097019e-05],\n",
       "       [6.40717283e-05],\n",
       "       ...,\n",
       "       [7.98656539e-01],\n",
       "       [7.09781558e-01],\n",
       "       [6.90799549e-01]])"
      ]
     },
     "execution_count": 6,
     "metadata": {},
     "output_type": "execute_result"
    }
   ],
   "source": [
    "from sklearn.preprocessing import MinMaxScaler\n",
    "\n",
    "scaler = MinMaxScaler(feature_range=(0,1))\n",
    "scaled_data = scaler.fit_transform(dataset)\n",
    "\n",
    "scaled_data\n"
   ]
  },
  {
   "cell_type": "code",
   "execution_count": 7,
   "metadata": {
    "colab": {
     "base_uri": "https://localhost:8080/"
    },
    "executionInfo": {
     "elapsed": 311,
     "status": "ok",
     "timestamp": 1632252668719,
     "user": {
      "displayName": "Milan Stojanovski",
      "photoUrl": "https://lh3.googleusercontent.com/a/default-user=s64",
      "userId": "15883807230559650119"
     },
     "user_tz": -120
    },
    "id": "QbV75LDDPFcH",
    "outputId": "e80264ee-4d2c-404a-9545-197b444bfe4d"
   },
   "outputs": [
    {
     "name": "stdout",
     "output_type": "stream",
     "text": [
      "[array([5.60734562e-04, 7.64097019e-05, 6.40717283e-05, 6.56433571e-05,\n",
      "       1.51869137e-04, 1.87754560e-04, 3.34153547e-04, 3.34201536e-04,\n",
      "       3.00861532e-04, 2.71384057e-04, 1.84436618e-04, 1.56472958e-04,\n",
      "       1.97691541e-04, 2.47126974e-04, 2.30422181e-04, 2.26569261e-04,\n",
      "       2.20178101e-04, 1.91072473e-04, 1.69221674e-04, 1.73969464e-04,\n",
      "       1.71023370e-04, 1.81502564e-04, 1.79384160e-04, 2.12184382e-04,\n",
      "       2.21533591e-04, 2.19942987e-04, 2.06311440e-04, 1.99147786e-04,\n",
      "       2.01422113e-04, 2.16872171e-04, 2.06560940e-04, 1.94762263e-04,\n",
      "       1.93749849e-04, 1.85132352e-04, 1.75358530e-04, 1.31505270e-04,\n",
      "       1.44883026e-04, 1.20235607e-04, 1.05749715e-04, 1.22252512e-04,\n",
      "       1.13319536e-04, 1.05416005e-04, 1.00486867e-04, 1.07373652e-04,\n",
      "       1.20821448e-04, 1.16167721e-04, 1.12029066e-04, 1.10016237e-04,\n",
      "       9.08725570e-05, 7.23067964e-05, 8.42400621e-05, 6.86160632e-05,\n",
      "       3.55200392e-05, 5.42952321e-05, 7.28876185e-05, 6.12691162e-05,\n",
      "       5.84763566e-05, 6.05388344e-05, 5.60304916e-05, 4.64975037e-05])]\n",
      "[5.1775967083846975e-05]\n",
      "\n",
      "[array([5.60734562e-04, 7.64097019e-05, 6.40717283e-05, 6.56433571e-05,\n",
      "       1.51869137e-04, 1.87754560e-04, 3.34153547e-04, 3.34201536e-04,\n",
      "       3.00861532e-04, 2.71384057e-04, 1.84436618e-04, 1.56472958e-04,\n",
      "       1.97691541e-04, 2.47126974e-04, 2.30422181e-04, 2.26569261e-04,\n",
      "       2.20178101e-04, 1.91072473e-04, 1.69221674e-04, 1.73969464e-04,\n",
      "       1.71023370e-04, 1.81502564e-04, 1.79384160e-04, 2.12184382e-04,\n",
      "       2.21533591e-04, 2.19942987e-04, 2.06311440e-04, 1.99147786e-04,\n",
      "       2.01422113e-04, 2.16872171e-04, 2.06560940e-04, 1.94762263e-04,\n",
      "       1.93749849e-04, 1.85132352e-04, 1.75358530e-04, 1.31505270e-04,\n",
      "       1.44883026e-04, 1.20235607e-04, 1.05749715e-04, 1.22252512e-04,\n",
      "       1.13319536e-04, 1.05416005e-04, 1.00486867e-04, 1.07373652e-04,\n",
      "       1.20821448e-04, 1.16167721e-04, 1.12029066e-04, 1.10016237e-04,\n",
      "       9.08725570e-05, 7.23067964e-05, 8.42400621e-05, 6.86160632e-05,\n",
      "       3.55200392e-05, 5.42952321e-05, 7.28876185e-05, 6.12691162e-05,\n",
      "       5.84763566e-05, 6.05388344e-05, 5.60304916e-05, 4.64975037e-05]), array([7.64097019e-05, 6.40717283e-05, 6.56433571e-05, 1.51869137e-04,\n",
      "       1.87754560e-04, 3.34153547e-04, 3.34201536e-04, 3.00861532e-04,\n",
      "       2.71384057e-04, 1.84436618e-04, 1.56472958e-04, 1.97691541e-04,\n",
      "       2.47126974e-04, 2.30422181e-04, 2.26569261e-04, 2.20178101e-04,\n",
      "       1.91072473e-04, 1.69221674e-04, 1.73969464e-04, 1.71023370e-04,\n",
      "       1.81502564e-04, 1.79384160e-04, 2.12184382e-04, 2.21533591e-04,\n",
      "       2.19942987e-04, 2.06311440e-04, 1.99147786e-04, 2.01422113e-04,\n",
      "       2.16872171e-04, 2.06560940e-04, 1.94762263e-04, 1.93749849e-04,\n",
      "       1.85132352e-04, 1.75358530e-04, 1.31505270e-04, 1.44883026e-04,\n",
      "       1.20235607e-04, 1.05749715e-04, 1.22252512e-04, 1.13319536e-04,\n",
      "       1.05416005e-04, 1.00486867e-04, 1.07373652e-04, 1.20821448e-04,\n",
      "       1.16167721e-04, 1.12029066e-04, 1.10016237e-04, 9.08725570e-05,\n",
      "       7.23067964e-05, 8.42400621e-05, 6.86160632e-05, 3.55200392e-05,\n",
      "       5.42952321e-05, 7.28876185e-05, 6.12691162e-05, 5.84763566e-05,\n",
      "       6.05388344e-05, 5.60304916e-05, 4.64975037e-05, 5.17759671e-05])]\n",
      "[5.1775967083846975e-05, 4.187808138807572e-05]\n",
      "\n"
     ]
    }
   ],
   "source": [
    "# Create the training data set \n",
    "# Create the scaled training data set\n",
    "train_data = scaled_data[0:int(training_data_len), :]\n",
    "# Split the data into x_train and y_train data sets\n",
    "x_train = []\n",
    "y_train = []\n",
    "\n",
    "for i in range(60, len(train_data)):\n",
    "    x_train.append(train_data[i-60:i, 0])\n",
    "    y_train.append(train_data[i, 0])\n",
    "    if i<= 61:\n",
    "        print(x_train)\n",
    "        print(y_train)\n",
    "        print()\n",
    "        \n",
    "# Convert the x_train and y_train to numpy arrays \n",
    "x_train, y_train = np.array(x_train), np.array(y_train)\n",
    "\n",
    "# Reshape the data\n",
    "x_train = np.reshape(x_train, (x_train.shape[0], x_train.shape[1], 1))\n",
    "# x_train.shape\n",
    "\n"
   ]
  },
  {
   "cell_type": "code",
   "execution_count": null,
   "metadata": {
    "id": "LhvKrlAb4HN_"
   },
   "outputs": [],
   "source": []
  },
  {
   "cell_type": "code",
   "execution_count": null,
   "metadata": {
    "colab": {
     "base_uri": "https://localhost:8080/"
    },
    "id": "grFxToG3PIR2",
    "outputId": "0f83e497-9872-4111-d0c3-85c53a2f755f"
   },
   "outputs": [
    {
     "name": "stdout",
     "output_type": "stream",
     "text": [
      "Epoch 1/50\n",
      "33/33 [==============================] - 8s 150ms/step - loss: 0.0016\n",
      "Epoch 2/50\n",
      "33/33 [==============================] - 5s 152ms/step - loss: 5.7152e-04\n",
      "Epoch 3/50\n",
      "33/33 [==============================] - 5s 156ms/step - loss: 6.1187e-04\n",
      "Epoch 4/50\n",
      "33/33 [==============================] - 5s 154ms/step - loss: 4.6150e-04\n",
      "Epoch 5/50\n",
      "33/33 [==============================] - 5s 155ms/step - loss: 5.0299e-04\n",
      "Epoch 6/50\n",
      "33/33 [==============================] - 5s 154ms/step - loss: 4.1212e-04\n",
      "Epoch 7/50\n",
      "33/33 [==============================] - 5s 154ms/step - loss: 3.1880e-04\n",
      "Epoch 8/50\n",
      "33/33 [==============================] - 5s 155ms/step - loss: 2.9345e-04\n",
      "Epoch 9/50\n",
      "33/33 [==============================] - 5s 155ms/step - loss: 2.5652e-04\n",
      "Epoch 10/50\n",
      "33/33 [==============================] - 5s 154ms/step - loss: 3.3827e-04\n",
      "Epoch 11/50\n",
      "33/33 [==============================] - 5s 154ms/step - loss: 2.4501e-04\n",
      "Epoch 12/50\n",
      "33/33 [==============================] - 5s 153ms/step - loss: 2.5001e-04\n",
      "Epoch 13/50\n",
      "33/33 [==============================] - 5s 153ms/step - loss: 3.0119e-04\n",
      "Epoch 14/50\n",
      "33/33 [==============================] - 5s 155ms/step - loss: 2.1466e-04\n",
      "Epoch 15/50\n",
      "33/33 [==============================] - 5s 152ms/step - loss: 2.4297e-04\n",
      "Epoch 16/50\n",
      "33/33 [==============================] - 5s 155ms/step - loss: 2.9534e-04\n",
      "Epoch 17/50\n",
      "33/33 [==============================] - 5s 151ms/step - loss: 2.9942e-04\n",
      "Epoch 18/50\n",
      "33/33 [==============================] - 5s 155ms/step - loss: 2.2250e-04\n",
      "Epoch 19/50\n",
      "33/33 [==============================] - 5s 153ms/step - loss: 2.2868e-04\n",
      "Epoch 20/50\n",
      "33/33 [==============================] - 5s 157ms/step - loss: 2.1364e-04\n",
      "Epoch 21/50\n",
      "33/33 [==============================] - 5s 154ms/step - loss: 3.7400e-04\n",
      "Epoch 22/50\n",
      "33/33 [==============================] - 5s 155ms/step - loss: 2.0225e-04\n",
      "Epoch 23/50\n",
      "33/33 [==============================] - 5s 154ms/step - loss: 2.2576e-04\n",
      "Epoch 24/50\n",
      "33/33 [==============================] - 5s 155ms/step - loss: 2.3353e-04\n",
      "Epoch 25/50\n",
      "33/33 [==============================] - 5s 154ms/step - loss: 2.0274e-04\n",
      "Epoch 26/50\n",
      "33/33 [==============================] - 5s 155ms/step - loss: 2.6260e-04\n",
      "Epoch 27/50\n",
      "33/33 [==============================] - 5s 154ms/step - loss: 2.2736e-04\n",
      "Epoch 28/50\n",
      "33/33 [==============================] - 5s 153ms/step - loss: 1.9116e-04\n",
      "Epoch 29/50\n",
      "33/33 [==============================] - 5s 156ms/step - loss: 2.0709e-04\n",
      "Epoch 30/50\n",
      "33/33 [==============================] - 5s 152ms/step - loss: 1.9234e-04\n",
      "Epoch 31/50\n",
      "33/33 [==============================] - 5s 155ms/step - loss: 2.1524e-04\n",
      "Epoch 32/50\n",
      "33/33 [==============================] - 5s 153ms/step - loss: 2.0372e-04\n",
      "Epoch 33/50\n",
      "33/33 [==============================] - 5s 157ms/step - loss: 2.2676e-04\n",
      "Epoch 34/50\n",
      "33/33 [==============================] - 5s 152ms/step - loss: 1.6261e-04\n",
      "Epoch 35/50\n",
      "33/33 [==============================] - 5s 156ms/step - loss: 2.4449e-04\n",
      "Epoch 36/50\n",
      "33/33 [==============================] - 5s 152ms/step - loss: 1.7105e-04\n",
      "Epoch 37/50\n",
      "33/33 [==============================] - 5s 156ms/step - loss: 2.2319e-04\n",
      "Epoch 38/50\n",
      "33/33 [==============================] - 5s 154ms/step - loss: 1.7800e-04\n",
      "Epoch 39/50\n",
      "33/33 [==============================] - 5s 156ms/step - loss: 1.9506e-04\n",
      "Epoch 40/50\n",
      "33/33 [==============================] - 5s 154ms/step - loss: 2.1368e-04\n",
      "Epoch 41/50\n",
      "33/33 [==============================] - 5s 155ms/step - loss: 3.1914e-04\n",
      "Epoch 42/50\n",
      "33/33 [==============================] - 5s 154ms/step - loss: 1.8026e-04\n",
      "Epoch 43/50\n",
      "33/33 [==============================] - 5s 153ms/step - loss: 1.6567e-04\n",
      "Epoch 44/50\n",
      "33/33 [==============================] - 5s 154ms/step - loss: 1.5102e-04\n",
      "Epoch 45/50\n",
      "33/33 [==============================] - 5s 151ms/step - loss: 1.9302e-04\n",
      "Epoch 46/50\n",
      "33/33 [==============================] - 5s 148ms/step - loss: 1.8612e-04\n",
      "Epoch 47/50\n",
      "33/33 [==============================] - 5s 149ms/step - loss: 2.0652e-04\n",
      "Epoch 48/50\n",
      "33/33 [==============================] - 5s 152ms/step - loss: 1.6206e-04\n",
      "Epoch 49/50\n",
      "33/33 [==============================] - 5s 150ms/step - loss: 2.2121e-04\n",
      "Epoch 50/50\n",
      "33/33 [==============================] - 5s 151ms/step - loss: 2.1125e-04\n"
     ]
    }
   ],
   "source": [
    "from keras.models import Sequential\n",
    "from keras.layers import Dense, LSTM\n",
    "\n",
    "# Build the LSTM model\n",
    "model = Sequential()\n",
    "model.add(LSTM(128, return_sequences=True, input_shape= (x_train.shape[1], 1)))\n",
    "model.add(Dropout(0.1))\n",
    "model.add(LSTM(64, return_sequences=False))\n",
    "model.add(Dense(25))\n",
    "model.add(Dense(1))\n",
    "\n",
    "# Compile the model\n",
    "model.compile(optimizer='adam', loss='mean_squared_error')\n",
    "\n",
    "# Train the model\n",
    "model.fit(x_train, y_train, batch_size=64, epochs=50)\n",
    "\n"
   ]
  },
  {
   "cell_type": "code",
   "execution_count": 27,
   "metadata": {
    "colab": {
     "base_uri": "https://localhost:8080/"
    },
    "executionInfo": {
     "elapsed": 674,
     "status": "ok",
     "timestamp": 1632255544844,
     "user": {
      "displayName": "Milan Stojanovski",
      "photoUrl": "https://lh3.googleusercontent.com/a/default-user=s64",
      "userId": "15883807230559650119"
     },
     "user_tz": -120
    },
    "id": "zkflGixtPNV_",
    "outputId": "d2b6895c-c9b4-47e6-cf0e-90d26a575157"
   },
   "outputs": [
    {
     "data": {
      "text/plain": [
       "177.19435718021893"
      ]
     },
     "execution_count": 27,
     "metadata": {},
     "output_type": "execute_result"
    }
   ],
   "source": [
    "# Create the testing data set\n",
    "# Create a new array containing scaled values from index 1543 to 2002 \n",
    "test_data = scaled_data[training_data_len - 60: , :]\n",
    "# Create the data sets x_test and y_test\n",
    "x_test = []\n",
    "y_test = dataset[training_data_len:, :]\n",
    "for i in range(60, len(test_data)):\n",
    "    x_test.append(test_data[i-60:i, 0])\n",
    "    \n",
    "# Convert the data to a numpy array\n",
    "x_test = np.array(x_test)\n",
    "\n",
    "# Reshape the data\n",
    "x_test = np.reshape(x_test, (x_test.shape[0], x_test.shape[1], 1 ))\n",
    "\n",
    "# Get the models predicted price values \n",
    "predictions = model.predict(x_test)\n",
    "predictions = scaler.inverse_transform(predictions)\n",
    "\n",
    "# Get the root mean squared error (RMSE)\n",
    "rmse = np.sqrt(np.mean(((predictions - y_test) ** 2)))\n",
    "rmse"
   ]
  },
  {
   "cell_type": "code",
   "execution_count": 10,
   "metadata": {
    "colab": {
     "base_uri": "https://localhost:8080/",
     "height": 429
    },
    "executionInfo": {
     "elapsed": 428,
     "status": "ok",
     "timestamp": 1632253431341,
     "user": {
      "displayName": "Milan Stojanovski",
      "photoUrl": "https://lh3.googleusercontent.com/a/default-user=s64",
      "userId": "15883807230559650119"
     },
     "user_tz": -120
    },
    "id": "JLb-_TecPr6W",
    "outputId": "87dc4395-78ce-4b3f-95a2-58af18a38ea4"
   },
   "outputs": [
    {
     "name": "stderr",
     "output_type": "stream",
     "text": [
      "/usr/local/lib/python3.7/dist-packages/ipykernel_launcher.py:3: SettingWithCopyWarning:\n",
      "\n",
      "\n",
      "A value is trying to be set on a copy of a slice from a DataFrame.\n",
      "Try using .loc[row_indexer,col_indexer] = value instead\n",
      "\n",
      "See the caveats in the documentation: https://pandas.pydata.org/pandas-docs/stable/user_guide/indexing.html#returning-a-view-versus-a-copy\n",
      "\n"
     ]
    },
    {
     "data": {
      "image/png": "[encoded data removed]",
      "text/plain": [
       "<Figure size 1152x432 with 1 Axes>"
      ]
     },
     "metadata": {
      "needs_background": "light"
     },
     "output_type": "display_data"
    }
   ],
   "source": [
    "train = data[:training_data_len]\n",
    "valid = data[training_data_len:]\n",
    "valid['Predictions'] = predictions\n",
    "# Visualize the data\n",
    "plt.figure(figsize=(16,6))\n",
    "plt.title('Etherium Price Prediction')\n",
    "plt.xlabel('Date', fontsize=18)\n",
    "plt.ylabel('Close Price USD ($)', fontsize=18)\n",
    "plt.plot(train['Close'])\n",
    "plt.plot(valid[['Close', 'Predictions']])\n",
    "plt.legend(['Train', 'Val', 'Predictions'], loc='lower right')\n",
    "plt.show()"
   ]
  },
  {
   "cell_type": "code",
   "execution_count": 11,
   "metadata": {
    "colab": {
     "base_uri": "https://localhost:8080/",
     "height": 450
    },
    "executionInfo": {
     "elapsed": 322,
     "status": "ok",
     "timestamp": 1632253442480,
     "user": {
      "displayName": "Milan Stojanovski",
      "photoUrl": "https://lh3.googleusercontent.com/a/default-user=s64",
      "userId": "15883807230559650119"
     },
     "user_tz": -120
    },
    "id": "aH7_ZgJ6P2TT",
    "outputId": "f50652f8-9150-49b5-c895-8a2b2fa0960d"
   },
   "outputs": [
    {
     "data": {
      "text/html": [
       "<div>\n",
       "<style scoped>\n",
       "    .dataframe tbody tr th:only-of-type {\n",
       "        vertical-align: middle;\n",
       "    }\n",
       "\n",
       "    .dataframe tbody tr th {\n",
       "        vertical-align: top;\n",
       "    }\n",
       "\n",
       "    .dataframe thead th {\n",
       "        text-align: right;\n",
       "    }\n",
       "</style>\n",
       "<table border=\"1\" class=\"dataframe\">\n",
       "  <thead>\n",
       "    <tr style=\"text-align: right;\">\n",
       "      <th></th>\n",
       "      <th>Close</th>\n",
       "      <th>Predictions</th>\n",
       "    </tr>\n",
       "    <tr>\n",
       "      <th>Date</th>\n",
       "      <th></th>\n",
       "      <th></th>\n",
       "    </tr>\n",
       "  </thead>\n",
       "  <tbody>\n",
       "    <tr>\n",
       "      <th>2021-06-03</th>\n",
       "      <td>2855.126465</td>\n",
       "      <td>2806.658447</td>\n",
       "    </tr>\n",
       "    <tr>\n",
       "      <th>2021-06-04</th>\n",
       "      <td>2688.195068</td>\n",
       "      <td>2932.256836</td>\n",
       "    </tr>\n",
       "    <tr>\n",
       "      <th>2021-06-05</th>\n",
       "      <td>2630.576904</td>\n",
       "      <td>2816.034424</td>\n",
       "    </tr>\n",
       "    <tr>\n",
       "      <th>2021-06-06</th>\n",
       "      <td>2715.092773</td>\n",
       "      <td>2712.164307</td>\n",
       "    </tr>\n",
       "    <tr>\n",
       "      <th>2021-06-07</th>\n",
       "      <td>2590.263184</td>\n",
       "      <td>2746.471924</td>\n",
       "    </tr>\n",
       "    <tr>\n",
       "      <th>...</th>\n",
       "      <td>...</td>\n",
       "      <td>...</td>\n",
       "    </tr>\n",
       "    <tr>\n",
       "      <th>2021-09-17</th>\n",
       "      <td>3398.538818</td>\n",
       "      <td>3546.119141</td>\n",
       "    </tr>\n",
       "    <tr>\n",
       "      <th>2021-09-18</th>\n",
       "      <td>3432.018311</td>\n",
       "      <td>3399.607178</td>\n",
       "    </tr>\n",
       "    <tr>\n",
       "      <th>2021-09-19</th>\n",
       "      <td>3329.447998</td>\n",
       "      <td>3398.307861</td>\n",
       "    </tr>\n",
       "    <tr>\n",
       "      <th>2021-09-20</th>\n",
       "      <td>2958.993408</td>\n",
       "      <td>3330.661133</td>\n",
       "    </tr>\n",
       "    <tr>\n",
       "      <th>2021-09-21</th>\n",
       "      <td>2879.871338</td>\n",
       "      <td>3007.268555</td>\n",
       "    </tr>\n",
       "  </tbody>\n",
       "</table>\n",
       "<p>111 rows × 2 columns</p>\n",
       "</div>"
      ],
      "text/plain": [
       "                  Close  Predictions\n",
       "Date                                \n",
       "2021-06-03  2855.126465  2806.658447\n",
       "2021-06-04  2688.195068  2932.256836\n",
       "2021-06-05  2630.576904  2816.034424\n",
       "2021-06-06  2715.092773  2712.164307\n",
       "2021-06-07  2590.263184  2746.471924\n",
       "...                 ...          ...\n",
       "2021-09-17  3398.538818  3546.119141\n",
       "2021-09-18  3432.018311  3399.607178\n",
       "2021-09-19  3329.447998  3398.307861\n",
       "2021-09-20  2958.993408  3330.661133\n",
       "2021-09-21  2879.871338  3007.268555\n",
       "\n",
       "[111 rows x 2 columns]"
      ]
     },
     "execution_count": 11,
     "metadata": {},
     "output_type": "execute_result"
    }
   ],
   "source": [
    "valid[['Close','Predictions']]"
   ]
  },
  {
   "cell_type": "code",
   "execution_count": 12,
   "metadata": {
    "colab": {
     "base_uri": "https://localhost:8080/",
     "height": 273
    },
    "executionInfo": {
     "elapsed": 1037,
     "status": "ok",
     "timestamp": 1632253448317,
     "user": {
      "displayName": "Milan Stojanovski",
      "photoUrl": "https://lh3.googleusercontent.com/a/default-user=s64",
      "userId": "15883807230559650119"
     },
     "user_tz": -120
    },
    "id": "zQExDc2TRifP",
    "outputId": "53ca519f-60e0-4111-90a7-12922d018a08"
   },
   "outputs": [
    {
     "data": {
      "image/png": "[encoded data removed]",
      "text/plain": [
       "<Figure size 1152x432 with 1 Axes>"
      ]
     },
     "metadata": {
      "needs_background": "light"
     },
     "output_type": "display_data"
    }
   ],
   "source": [
    "plt.figure(figsize=(16,6))\n",
    "plt.title('Etherium Price Prediction')\n",
    "plt.xlabel('Date', fontsize=18)\n",
    "plt.ylabel('Close Price USD ($)', fontsize=18)\n",
    "plt.plot(train['Close'][-180:])\n",
    "plt.plot(valid[['Close', 'Predictions']])\n",
    "plt.legend(['Actual Train', 'Actual', 'Predictions'], loc='lower right')\n",
    "plt.show()"
   ]
  },
  {
   "cell_type": "code",
   "execution_count": null,
   "metadata": {
    "id": "Lxpid1d6R4Yj"
   },
   "outputs": [],
   "source": []
  }
 ],
 "metadata": {
  "colab": {
   "authorship_tag": "ABX9TyPkcADuCUjVypUv11bmK/Nl",
   "name": "LSTM.ipynb",
   "provenance": []
  },
  "kernelspec": {
   "display_name": "Python 3",
   "language": "python",
   "name": "python3"
  },
  "language_info": {
   "codemirror_mode": {
    "name": "ipython",
    "version": 3
   },
   "file_extension": ".py",
   "mimetype": "text/x-python",
   "name": "python",
   "nbconvert_exporter": "python",
   "pygments_lexer": "ipython3",
   "version": "3.7.0"
  }
 },
 "nbformat": 4,
 "nbformat_minor": 1
}
